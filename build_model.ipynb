{
  "nbformat": 4,
  "nbformat_minor": 0,
  "metadata": {
    "colab": {
      "name": "build_model.ipynb",
      "provenance": []
    },
    "kernelspec": {
      "name": "python3",
      "display_name": "Python 3"
    },
    "language_info": {
      "name": "python"
    }
  },
  "cells": [
    {
      "cell_type": "code",
      "source": [
        "import keras\n",
        "import numpy as np \n",
        "import pandas as pd \n",
        "import matplotlib.pyplot as plt\n",
        "import cv2\n",
        "import tensorflow as tf\n",
        "from PIL import Image\n",
        "import os\n",
        "from sklearn.model_selection import train_test_split\n",
        "# from keras.utils import to_categorical\n",
        "from keras.models import Sequential, load_model\n",
        "from keras.layers import Conv2D, MaxPool2D, Dense, Flatten, Dropout"
      ],
      "metadata": {
        "id": "2CSdn5dmQvnV"
      },
      "execution_count": 1,
      "outputs": []
    },
    {
      "cell_type": "code",
      "source": [
        "!pip install opendatasets"
      ],
      "metadata": {
        "id": "5OXg-9Eqrrlt"
      },
      "execution_count": null,
      "outputs": []
    },
    {
      "cell_type": "code",
      "source": [
        "import opendatasets as od\n",
        "import pandas\n",
        "\n",
        "od.download(\n",
        "\t\"https://www.kaggle.com/datasets/meowmeowmeowmeowmeow/gtsrb-german-traffic-sign\")\n"
      ],
      "metadata": {
        "colab": {
          "base_uri": "https://localhost:8080/"
        },
        "id": "DQp7p988rnse",
        "outputId": "2bbcd0d9-3bc2-45cd-e792-98eda58486d8"
      },
      "execution_count": 4,
      "outputs": [
        {
          "output_type": "stream",
          "name": "stdout",
          "text": [
            "Please provide your Kaggle credentials to download this dataset. Learn more: http://bit.ly/kaggle-creds\n",
            "Your Kaggle username: nikhilsn02\n",
            "Your Kaggle Key: ··········\n",
            "Downloading gtsrb-german-traffic-sign.zip to ./gtsrb-german-traffic-sign\n"
          ]
        },
        {
          "output_type": "stream",
          "name": "stderr",
          "text": [
            "100%|██████████| 612M/612M [00:03<00:00, 209MB/s]\n"
          ]
        },
        {
          "output_type": "stream",
          "name": "stdout",
          "text": [
            "\n"
          ]
        }
      ]
    },
    {
      "cell_type": "code",
      "source": [
        "import os\n",
        "import random"
      ],
      "metadata": {
        "id": "tJKZO33gs5-u"
      },
      "execution_count": 13,
      "outputs": []
    },
    {
      "cell_type": "code",
      "source": [
        "import shutil"
      ],
      "metadata": {
        "id": "P6yMFqOPIDnY"
      },
      "execution_count": 9,
      "outputs": []
    },
    {
      "cell_type": "code",
      "source": [
        "start_path = \"/content/gtsrb-german-traffic-sign/Train/\"\n",
        "end_path = \"/content/sample_data/Test/\"\n",
        "os.mkdir(\"/content/sample_data/Test\")"
      ],
      "metadata": {
        "id": "EXbEmv9EIFgB"
      },
      "execution_count": 27,
      "outputs": []
    },
    {
      "cell_type": "code",
      "source": [
        "for i in range(40):\n",
        "  start = start_path+str(i)+'/'\n",
        "  end = end_path+str(i)\n",
        "  os.mkdir(end)\n",
        "  images = os.listdir(start)\n",
        "  for i in range(10):\n",
        "    img = random.choice(images)\n",
        "    shutil.move(start+img,end+'/'+img)\n",
        "    images.remove(img)\n"
      ],
      "metadata": {
        "id": "-9EmE1BxKAs5"
      },
      "execution_count": 28,
      "outputs": []
    },
    {
      "cell_type": "code",
      "source": [
        "for i in range(40):\n",
        "  print(len(os.listdir(start_path+str(i))))"
      ],
      "metadata": {
        "id": "OqG0MshotIe0"
      },
      "execution_count": null,
      "outputs": []
    },
    {
      "cell_type": "code",
      "source": [
        ""
      ],
      "metadata": {
        "id": "o_DGFpJAQDLT"
      },
      "execution_count": 24,
      "outputs": []
    },
    {
      "cell_type": "code",
      "source": [
        "#for testing let's get 10 images from each \n",
        "path_test = \"/content/sample_data\""
      ],
      "metadata": {
        "id": "cvvWqZpHy-_-"
      },
      "execution_count": 8,
      "outputs": []
    },
    {
      "cell_type": "code",
      "source": [
        "\n",
        "# from keras.utils import to_categorical\n",
        "import tensorflow as tf\n"
      ],
      "metadata": {
        "id": "jU_Ql-9vShmP"
      },
      "execution_count": null,
      "outputs": []
    },
    {
      "cell_type": "code",
      "source": [
        "%cd /content/drive/MyDrive/project-4"
      ],
      "metadata": {
        "colab": {
          "base_uri": "https://localhost:8080/"
        },
        "id": "cTrb0tg3Q1-7",
        "outputId": "5d010962-23f0-43fd-c694-4449eafcf132"
      },
      "execution_count": null,
      "outputs": [
        {
          "output_type": "stream",
          "name": "stdout",
          "text": [
            "/content/drive/MyDrive/project-4\n"
          ]
        }
      ]
    },
    {
      "cell_type": "code",
      "source": [
        "os.getcwd()"
      ],
      "metadata": {
        "colab": {
          "base_uri": "https://localhost:8080/",
          "height": 35
        },
        "id": "WzWj_K6bU5jR",
        "outputId": "f6569930-b98f-4c93-dea4-236a5905f6b5"
      },
      "execution_count": 32,
      "outputs": [
        {
          "output_type": "execute_result",
          "data": {
            "text/plain": [
              "'/content'"
            ],
            "application/vnd.google.colaboratory.intrinsic+json": {
              "type": "string"
            }
          },
          "metadata": {},
          "execution_count": 32
        }
      ]
    },
    {
      "cell_type": "code",
      "source": [
        "data = []\n",
        "labels = []\n",
        "classes = 40\n",
        "curr_path = \"/content/gtsrb-german-traffic-sign/Train\"\n",
        "#Retrieving the images and their labels \n",
        "for i in range(classes):\n",
        "    path = os.path.join(curr_path,str(i))\n",
        "    images = os.listdir(path)\n",
        "\n",
        "    for a in images:\n",
        "          image = Image.open(path + '/'+ a)\n",
        "          image = image.resize((30,30))\n",
        "          image = np.array(image)\n",
        "          #sim = Image.fromarray(image)\n",
        "          data.append(image)\n",
        "          labels.append(i)\n",
        "#Converting lists into numpy arrays\n",
        "data = np.array(data)\n",
        "labels = np.array(labels)\n",
        "\n",
        "print(data.shape, labels.shape)\n",
        "#Splitting training and testing dataset"
      ],
      "metadata": {
        "colab": {
          "base_uri": "https://localhost:8080/"
        },
        "id": "BlWD6b4TVc1-",
        "outputId": "1856396d-3a9b-49ff-c203-9a78c0693ea1"
      },
      "execution_count": 38,
      "outputs": [
        {
          "output_type": "stream",
          "name": "stdout",
          "text": [
            "(37569, 30, 30, 3) (37569,)\n"
          ]
        }
      ]
    },
    {
      "cell_type": "code",
      "source": [
        "X_train, X_test, y_train, y_test = train_test_split(data, labels, test_size=0.2, random_state=42)\n",
        "\n",
        "print(X_train.shape, X_test.shape, y_train.shape, y_test.shape)"
      ],
      "metadata": {
        "colab": {
          "base_uri": "https://localhost:8080/"
        },
        "id": "ZYfgFlsZYfM5",
        "outputId": "21b5ffa6-4e50-4180-9425-198e1fdefb16"
      },
      "execution_count": 39,
      "outputs": [
        {
          "output_type": "stream",
          "name": "stdout",
          "text": [
            "(30055, 30, 30, 3) (7514, 30, 30, 3) (30055,) (7514,)\n"
          ]
        }
      ]
    },
    {
      "cell_type": "code",
      "source": [
        "#Converting the labels into one hot encoding\n",
        "y_train = pd.get_dummies(y_train)\n",
        "y_test = pd.get_dummies(y_test)"
      ],
      "metadata": {
        "id": "eCB6F0i5ZQ4E"
      },
      "execution_count": 52,
      "outputs": []
    },
    {
      "cell_type": "code",
      "source": [
        "y_train = np.array(y_train)\n",
        "y_test = np.array(y_test)"
      ],
      "metadata": {
        "id": "3QGdzJlFdgAs"
      },
      "execution_count": 53,
      "outputs": []
    },
    {
      "cell_type": "code",
      "source": [
        ""
      ],
      "metadata": {
        "id": "bmv70q3heXp6"
      },
      "execution_count": 59,
      "outputs": []
    },
    {
      "cell_type": "code",
      "source": [
        "\n",
        "#Building the model\n",
        "model = Sequential()\n",
        "model.add(Conv2D(filters=32, kernel_size=(5,5), activation='relu', input_shape=X_train.shape[1:]))\n",
        "model.add(Conv2D(filters=32, kernel_size=(5,5), activation='relu'))\n",
        "model.add(MaxPool2D(pool_size=(2, 2)))\n",
        "model.add(Dropout(rate=0.25))\n",
        "model.add(Conv2D(filters=64, kernel_size=(3, 3), activation='relu'))\n",
        "model.add(Conv2D(filters=64, kernel_size=(3, 3), activation='relu'))\n",
        "model.add(MaxPool2D(pool_size=(2, 2)))\n",
        "model.add(Dropout(rate=0.25))\n",
        "model.add(Flatten())\n",
        "model.add(Dense(256, activation='relu'))\n",
        "model.add(Dropout(rate=0.5))\n",
        "model.add(Dense(40, activation='softmax'))\n",
        "\n",
        "#Compilation of the model\n",
        "model.compile(loss='categorical_crossentropy', optimizer='adam', metrics=['accuracy'])"
      ],
      "metadata": {
        "id": "unKwR00gdwEl"
      },
      "execution_count": 47,
      "outputs": []
    },
    {
      "cell_type": "code",
      "source": [
        "epochs = 15\n",
        "history = model.fit(X_train, y_train, batch_size=32, epochs=epochs, validation_data=(X_test, y_test))\n",
        "model.save(\"my_model.h5\")"
      ],
      "metadata": {
        "colab": {
          "base_uri": "https://localhost:8080/"
        },
        "id": "LWQCABeVfNZr",
        "outputId": "f217f056-376e-420e-e905-a215d2439419"
      },
      "execution_count": 56,
      "outputs": [
        {
          "output_type": "stream",
          "name": "stdout",
          "text": [
            "Epoch 1/15\n",
            "940/940 [==============================] - 134s 141ms/step - loss: 1.9511 - accuracy: 0.4961 - val_loss: 0.6409 - val_accuracy: 0.8154\n",
            "Epoch 2/15\n",
            "940/940 [==============================] - 132s 140ms/step - loss: 0.8688 - accuracy: 0.7451 - val_loss: 0.3631 - val_accuracy: 0.9001\n",
            "Epoch 3/15\n",
            "940/940 [==============================] - 129s 137ms/step - loss: 0.6484 - accuracy: 0.8044 - val_loss: 0.2909 - val_accuracy: 0.9087\n",
            "Epoch 4/15\n",
            "940/940 [==============================] - 129s 138ms/step - loss: 0.5742 - accuracy: 0.8292 - val_loss: 0.3043 - val_accuracy: 0.9074\n",
            "Epoch 5/15\n",
            "940/940 [==============================] - 130s 139ms/step - loss: 0.4983 - accuracy: 0.8498 - val_loss: 0.2214 - val_accuracy: 0.9410\n",
            "Epoch 6/15\n",
            "940/940 [==============================] - 132s 140ms/step - loss: 0.4435 - accuracy: 0.8661 - val_loss: 0.1759 - val_accuracy: 0.9492\n",
            "Epoch 7/15\n",
            "940/940 [==============================] - 130s 138ms/step - loss: 0.4353 - accuracy: 0.8700 - val_loss: 0.1568 - val_accuracy: 0.9570\n",
            "Epoch 8/15\n",
            "940/940 [==============================] - 130s 138ms/step - loss: 0.4071 - accuracy: 0.8793 - val_loss: 0.1576 - val_accuracy: 0.9526\n",
            "Epoch 9/15\n",
            "940/940 [==============================] - 129s 138ms/step - loss: 0.3848 - accuracy: 0.8839 - val_loss: 0.1485 - val_accuracy: 0.9529\n",
            "Epoch 10/15\n",
            "940/940 [==============================] - 132s 141ms/step - loss: 0.3581 - accuracy: 0.8900 - val_loss: 0.1876 - val_accuracy: 0.9413\n",
            "Epoch 11/15\n",
            "940/940 [==============================] - 130s 138ms/step - loss: 0.3767 - accuracy: 0.8878 - val_loss: 0.1403 - val_accuracy: 0.9598\n",
            "Epoch 12/15\n",
            "940/940 [==============================] - 130s 138ms/step - loss: 0.3425 - accuracy: 0.8953 - val_loss: 0.1484 - val_accuracy: 0.9529\n",
            "Epoch 13/15\n",
            "940/940 [==============================] - 129s 137ms/step - loss: 0.3405 - accuracy: 0.8961 - val_loss: 0.1175 - val_accuracy: 0.9677\n",
            "Epoch 14/15\n",
            "940/940 [==============================] - 134s 143ms/step - loss: 0.3400 - accuracy: 0.8985 - val_loss: 0.1195 - val_accuracy: 0.9642\n",
            "Epoch 15/15\n",
            "940/940 [==============================] - 130s 138ms/step - loss: 0.3491 - accuracy: 0.8978 - val_loss: 0.1007 - val_accuracy: 0.9729\n"
          ]
        }
      ]
    },
    {
      "cell_type": "code",
      "source": [
        "def load_and_prep_image(filename, img_shape=30):\n",
        "  img = tf.io.read_file(filename)\n",
        "\n",
        "  img = tf.image.decode_image(img, channels=3)\n",
        "\n",
        "  img = tf.image.resize(img, size = [img_shape, img_shape])\n",
        "  img/=255.\n",
        "  return img"
      ],
      "metadata": {
        "id": "QCsn5VEmodie"
      },
      "execution_count": 57,
      "outputs": []
    },
    {
      "cell_type": "code",
      "source": [
        "from matplotlib import pyplot as plt\n",
        "def pred_and_plot(model, filename, class_names):\n",
        "  img = load_and_prep_image(filename)\n",
        "\n",
        "  pred = model.predict(tf.expand_dims(img, axis=0))\n",
        "\n",
        "  # predicted class\n",
        "  pred_class = class_names[pred.argmax()] # if more than one output, take the max\n",
        "\n",
        "  plt.imshow(img)\n",
        "  plt.title(f\"Prediction: {pred_class}\")\n",
        "  plt.axis(False);"
      ],
      "metadata": {
        "id": "TPCOYJbBohfi"
      },
      "execution_count": 58,
      "outputs": []
    },
    {
      "cell_type": "code",
      "source": [
        "image = Image.open(\"/content/00023_00010_00025.png\")\n",
        "image = image.resize((30,30))\n",
        "image = np.array(image)\n",
        "image = np.expand_dims(image,axis=0)\n",
        "pred = model.predict(image)\n",
        "np.argmax(pred)"
      ],
      "metadata": {
        "colab": {
          "base_uri": "https://localhost:8080/"
        },
        "id": "EVwKi0panMyS",
        "outputId": "ef3f0fb5-ba97-41dc-e015-71ba2e36ed82"
      },
      "execution_count": 63,
      "outputs": [
        {
          "output_type": "execute_result",
          "data": {
            "text/plain": [
              "23"
            ]
          },
          "metadata": {},
          "execution_count": 63
        }
      ]
    },
    {
      "cell_type": "code",
      "source": [
        "#plotting graphs for accuracy \n",
        "plt.figure(0)\n",
        "plt.plot(history.history['accuracy'], label='training accuracy')\n",
        "plt.plot(history.history['val_accuracy'], label='val accuracy')\n",
        "plt.title('Accuracy')\n",
        "plt.xlabel('epochs')\n",
        "plt.ylabel('accuracy')\n",
        "plt.legend()\n",
        "plt.show()\n",
        "\n",
        "plt.figure(1)\n",
        "plt.plot(history.history['loss'], label='training loss')\n",
        "plt.plot(history.history['val_loss'], label='val loss')\n",
        "plt.title('Loss')\n",
        "plt.xlabel('epochs')\n",
        "plt.ylabel('loss')\n",
        "plt.legend()\n",
        "plt.show()"
      ],
      "metadata": {
        "colab": {
          "base_uri": "https://localhost:8080/",
          "height": 573
        },
        "id": "baQDTnMXs2t-",
        "outputId": "bc1bb6f8-a24b-47c2-cceb-c8cef4c311d8"
      },
      "execution_count": 64,
      "outputs": [
        {
          "output_type": "display_data",
          "data": {
            "text/plain": [
              "<Figure size 432x288 with 1 Axes>"
            ],
            "image/png": "[encoded data removed]"
          },
          "metadata": {
            "needs_background": "light"
          }
        },
        {
          "output_type": "display_data",
          "data": {
            "text/plain": [
              "<Figure size 432x288 with 1 Axes>"
            ],
            "image/png": "[encoded data removed]"
          },
          "metadata": {
            "needs_background": "light"
          }
        }
      ]
    },
    {
      "cell_type": "code",
      "execution_count": null,
      "metadata": {
        "id": "unpt_ibQP4Re"
      },
      "outputs": [],
      "source": [
        "\n",
        "\n",
        "#testing accuracy on test dataset\n",
        "from sklearn.metrics import accuracy_score\n",
        "\n",
        "y_test = pd.read_csv('Test.csv')\n",
        "\n",
        "labels = y_test[\"ClassId\"].values\n",
        "imgs = y_test[\"Path\"].values\n",
        "\n",
        "data=[]\n",
        "\n",
        "for img in imgs:\n",
        "    image = Image.open(img)\n",
        "    image = image.resize((30,30))\n",
        "    data.append(np.array(image))\n",
        "\n",
        "X_test=np.array(data)\n",
        "\n",
        "pred = model.predict_classes(X_test)\n",
        "\n",
        "#Accuracy with the test data\n",
        "from sklearn.metrics import accuracy_score\n",
        "print(accuracy_score(labels, pred))\n",
        "\n",
        "model.save('traffic_classifier.h5')"
      ]
    }
  ]
}