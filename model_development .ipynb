{
  "cells": [
    {
      "cell_type": "code",
      "execution_count": null,
      "metadata": {
        "colab": {
          "base_uri": "https://localhost:8080/"
        },
        "id": "QkFrbUiBZmAI",
        "outputId": "5c80b87b-1850-439e-f882-a9baf058c6bb"
      },
      "outputs": [
        {
          "output_type": "stream",
          "name": "stdout",
          "text": [
            "/content/drive/MyDrive/project-4\n"
          ]
        }
      ],
      "source": [
        "%cd /content/drive/MyDrive/project-4"
      ]
    },
    {
      "cell_type": "code",
      "execution_count": null,
      "metadata": {
        "id": "nnKJq_wfZ9em"
      },
      "outputs": [],
      "source": [
        "import tensorflow as tf\n",
        "from helper_functions import create_tensorboard_callback, plot_loss_curves, walk_through_dir"
      ]
    },
    {
      "cell_type": "code",
      "execution_count": null,
      "metadata": {
        "id": "wv55HmIpaAEm"
      },
      "outputs": [],
      "source": [
        "train_dir = \"Train\"\n",
        "test_dir = \"Test\""
      ]
    },
    {
      "cell_type": "code",
      "execution_count": null,
      "metadata": {
        "colab": {
          "base_uri": "https://localhost:8080/"
        },
        "id": "KNI-kZzyaxAA",
        "outputId": "70a15e42-14b5-46f9-a75c-122c74efc387"
      },
      "outputs": [
        {
          "output_type": "stream",
          "name": "stdout",
          "text": [
            "Found 37185 files belonging to 40 classes.\n",
            "Found 400 files belonging to 40 classes.\n"
          ]
        }
      ],
      "source": [
        "IMG_SIZE = (50, 50) \n",
        "train_data = tf.keras.preprocessing.image_dataset_from_directory(directory=train_dir,\n",
        "                                                                            image_size=IMG_SIZE,\n",
        "                                                                            label_mode=\"categorical\", \n",
        "                                                                            batch_size=32)\n",
        "test_data = tf.keras.preprocessing.image_dataset_from_directory(directory=test_dir,\n",
        "                                                                           image_size=IMG_SIZE,\n",
        "                                                                           label_mode=\"categorical\")"
      ]
    },
    {
      "cell_type": "code",
      "execution_count": null,
      "metadata": {
        "id": "03MeIfPUdyQQ"
      },
      "outputs": [],
      "source": [
        ""
      ]
    },
    {
      "cell_type": "code",
      "execution_count": null,
      "metadata": {
        "colab": {
          "base_uri": "https://localhost:8080/"
        },
        "id": "G3CFIIbTd-wE",
        "outputId": "e0a9fb07-7da1-4bea-d14a-3f9e350acc4f"
      },
      "outputs": [
        {
          "output_type": "stream",
          "name": "stdout",
          "text": [
            "Downloading data from https://storage.googleapis.com/keras-applications/efficientnetb0_notop.h5\n",
            "16711680/16705208 [==============================] - 0s 0us/step\n",
            "16719872/16705208 [==============================] - 0s 0us/step\n",
            "Shape after base_model: (None, 7, 7, 1280)\n",
            "After GlobalAveragePooling2D(): (None, 1280)\n"
          ]
        }
      ],
      "source": [
        "# base_model = tf.keras.applications.EfficientNetB0(include_top=False)\n",
        "# base_model.trainable = False\n",
        "# inputs = tf.keras.layers.Input(shape=(224, 224, 3), name=\"input_layer\")\n",
        "# x = base_model(inputs)\n",
        "# print(f\"Shape after base_model: {x.shape}\")\n",
        "\n",
        "# x = tf.keras.layers.GlobalAveragePooling2D(name=\"global_average_pooling_layer\")(x)\n",
        "# print(f\"After GlobalAveragePooling2D(): {x.shape}\")\n",
        "\n",
        "# outputs = tf.keras.layers.Dense(40, activation=\"softmax\", name=\"output_layer\")(x)\n",
        "\n",
        "# model_efficient_net = tf.keras.Model(inputs, outputs)\n",
        "\n",
        "# model_efficient_net.compile(loss='categorical_crossentropy',\n",
        "#               optimizer=tf.keras.optimizers.Adam(),\n",
        "#               metrics=[\"accuracy\"])\n",
        "\n"
      ]
    },
    {
      "cell_type": "code",
      "source": [
        "from tensorflow.keras import layers\n",
        "from tensorflow.keras.models import Sequential\n",
        "base_model = tf.keras.applications.EfficientNetB0(include_top=False)\n",
        "base_model.trainable = True\n",
        "for layer in base_model.layers[:-7]:\n",
        "  layer.trainable = False\n",
        "inputs = tf.keras.layers.Input(shape=(50, 50, 3), name=\"input_layer\")\n",
        "x = base_model(inputs, training=False)  \n",
        "x = layers.GlobalAveragePooling2D(name=\"global_average_pooling_layer\")(x)\n",
        "outputs = layers.Dense(40, activation=\"softmax\", name=\"output_layer\")(x)\n",
        "model_2 = tf.keras.Model(inputs, outputs)\n",
        "\n",
        "# Compile\n",
        "model_2.compile(loss=\"categorical_crossentropy\",\n",
        "              optimizer=tf.keras.optimizers.Adam(lr=0.001),\n",
        "              metrics=[\"accuracy\"])"
      ],
      "metadata": {
        "colab": {
          "base_uri": "https://localhost:8080/"
        },
        "id": "LoWrSJtLGOTo",
        "outputId": "33a92092-0f82-4d84-87fa-c7fdb92800f9"
      },
      "execution_count": null,
      "outputs": [
        {
          "output_type": "stream",
          "name": "stdout",
          "text": [
            "Downloading data from https://storage.googleapis.com/keras-applications/efficientnetb0_notop.h5\n",
            "16711680/16705208 [==============================] - 0s 0us/step\n",
            "16719872/16705208 [==============================] - 0s 0us/step\n"
          ]
        },
        {
          "output_type": "stream",
          "name": "stderr",
          "text": [
            "/usr/local/lib/python3.7/dist-packages/keras/optimizer_v2/adam.py:105: UserWarning: The `lr` argument is deprecated, use `learning_rate` instead.\n",
            "  super(Adam, self).__init__(name, **kwargs)\n"
          ]
        }
      ]
    },
    {
      "cell_type": "code",
      "source": [
        "# for layer_number, layer in enumerate(base_model.layers):\n",
        "#   print(layer_number, layer.name, layer.trainable)"
      ],
      "metadata": {
        "id": "DUwVUtNeGrXh"
      },
      "execution_count": null,
      "outputs": []
    },
    {
      "cell_type": "code",
      "source": [
        ""
      ],
      "metadata": {
        "id": "YSNN8sSBHB9B"
      },
      "execution_count": null,
      "outputs": []
    },
    {
      "cell_type": "code",
      "execution_count": null,
      "metadata": {
        "colab": {
          "base_uri": "https://localhost:8080/"
        },
        "id": "Pi3ecQPPlaKX",
        "outputId": "2c1b54a8-9436-4129-aa38-16b864f5452b"
      },
      "outputs": [
        {
          "output_type": "stream",
          "name": "stdout",
          "text": [
            "Epoch 1/5\n",
            "1163/1163 [==============================] - 8852s 8s/step - loss: 0.8319 - accuracy: 0.7252 - val_loss: 0.5873 - val_accuracy: 0.7975\n",
            "Epoch 2/5\n",
            "1163/1163 [==============================] - 135s 116ms/step - loss: 0.3423 - accuracy: 0.8812 - val_loss: 0.3653 - val_accuracy: 0.8925\n",
            "Epoch 3/5\n",
            "1163/1163 [==============================] - 135s 116ms/step - loss: 0.2208 - accuracy: 0.9243 - val_loss: 0.2923 - val_accuracy: 0.9175\n",
            "Epoch 4/5\n",
            "1163/1163 [==============================] - 135s 116ms/step - loss: 0.1601 - accuracy: 0.9441 - val_loss: 0.2011 - val_accuracy: 0.9475\n",
            "Epoch 5/5\n",
            "1163/1163 [==============================] - 135s 116ms/step - loss: 0.1369 - accuracy: 0.9544 - val_loss: 0.2439 - val_accuracy: 0.9400\n"
          ]
        }
      ],
      "source": [
        "history_efficient_model = model_2.fit(train_data,\n",
        "                                 epochs=5,\n",
        "                                 steps_per_epoch=len(train_data),\n",
        "                                 validation_data=test_data,\n",
        "                                 validation_steps=len(test_data))"
      ]
    },
    {
      "cell_type": "code",
      "source": [
        "model_2.save(\"models/model_efficient_net_less_data.h5\")"
      ],
      "metadata": {
        "id": "w1o4qSJGxAXI"
      },
      "execution_count": null,
      "outputs": []
    },
    {
      "cell_type": "code",
      "source": [
        "%cd /content/drive/MyDrive/project-4"
      ],
      "metadata": {
        "colab": {
          "base_uri": "https://localhost:8080/"
        },
        "id": "NW1u1nA_K3Pn",
        "outputId": "18f5aec9-aefe-4504-ed0d-d5a09fcf58c9"
      },
      "execution_count": null,
      "outputs": [
        {
          "output_type": "stream",
          "name": "stdout",
          "text": [
            "/content/drive/MyDrive/project-4\n"
          ]
        }
      ]
    },
    {
      "cell_type": "code",
      "execution_count": null,
      "metadata": {
        "id": "vyUHcUakfxRc"
      },
      "outputs": [],
      "source": [
        "from tensorflow.keras.models import load_model\n",
        "new_model = load_model('models/model_efficient_net_less_data.h5')"
      ]
    },
    {
      "cell_type": "code",
      "source": [
        "new_model.summary()"
      ],
      "metadata": {
        "colab": {
          "base_uri": "https://localhost:8080/"
        },
        "id": "PxzgVdB6_-Of",
        "outputId": "112d4510-65bf-419e-8e18-79eb7008a206"
      },
      "execution_count": null,
      "outputs": [
        {
          "output_type": "stream",
          "name": "stdout",
          "text": [
            "Model: \"model\"\n",
            "_________________________________________________________________\n",
            " Layer (type)                Output Shape              Param #   \n",
            "=================================================================\n",
            " input_layer (InputLayer)    [(None, 50, 50, 3)]       0         \n",
            "                                                                 \n",
            " efficientnetb0 (Functional)  (None, None, None, 1280)  4049571  \n",
            "                                                                 \n",
            " global_average_pooling_laye  (None, 1280)             0         \n",
            " r (GlobalAveragePooling2D)                                      \n",
            "                                                                 \n",
            " output_layer (Dense)        (None, 40)                51240     \n",
            "                                                                 \n",
            "=================================================================\n",
            "Total params: 4,100,811\n",
            "Trainable params: 889,128\n",
            "Non-trainable params: 3,211,683\n",
            "_________________________________________________________________\n"
          ]
        }
      ]
    },
    {
      "cell_type": "code",
      "source": [
        "from helper_functions import load_and_prep_image,pred_and_plot\n",
        "import tensorflow as tf"
      ],
      "metadata": {
        "id": "HBuJC50MAnep"
      },
      "execution_count": null,
      "outputs": []
    },
    {
      "cell_type": "code",
      "source": [
        "def load_and_prep_image(filename, img_shape=50):\n",
        "  img = tf.io.read_file(filename)\n",
        "\n",
        "  img = tf.image.decode_image(img, channels=3)\n",
        "\n",
        "  img = tf.image.resize(img, size = [img_shape, img_shape])\n",
        "  img/=255.\n",
        "  return img"
      ],
      "metadata": {
        "id": "c3BFkHk_CIaC"
      },
      "execution_count": null,
      "outputs": []
    },
    {
      "cell_type": "code",
      "source": [
        ""
      ],
      "metadata": {
        "id": "k0ukJZ56_whS"
      },
      "execution_count": null,
      "outputs": []
    },
    {
      "cell_type": "code",
      "source": [
        "from matplotlib import pyplot as plt\n",
        "def pred_and_plot(model, filename, class_names):\n",
        "  img = load_and_prep_image(filename)\n",
        "\n",
        "  pred = model.predict(tf.expand_dims(img, axis=0))\n",
        "\n",
        "  # predicted class\n",
        "  pred_class = class_names[pred.argmax()] # if more than one output, take the max\n",
        "\n",
        "  plt.imshow(img)\n",
        "  plt.title(f\"Prediction: {pred_class}\")\n",
        "  plt.axis(False);"
      ],
      "metadata": {
        "id": "qe6rOZifCNlp"
      },
      "execution_count": null,
      "outputs": []
    },
    {
      "cell_type": "code",
      "source": [
        "pred_and_plot(new_model,'construction_site.png',[i for i in range(40)])"
      ],
      "metadata": {
        "colab": {
          "base_uri": "https://localhost:8080/",
          "height": 264
        },
        "id": "ZXeRrTtGCZPa",
        "outputId": "05aac950-4049-4a06-d1bd-bbd995daba9e"
      },
      "execution_count": null,
      "outputs": [
        {
          "output_type": "display_data",
          "data": {
            "text/plain": [
              "<Figure size 432x288 with 1 Axes>"
            ],
            "image/png": "[encoded data removed]"
          },
          "metadata": {
            "needs_background": "light"
          }
        }
      ]
    },
    {
      "cell_type": "code",
      "source": [
        ""
      ],
      "metadata": {
        "id": "eATFubXqDfoF"
      },
      "execution_count": null,
      "outputs": []
    }
  ],
  "metadata": {
    "accelerator": "GPU",
    "colab": {
      "name": "model_development.ipynb",
      "provenance": [],
      "collapsed_sections": []
    },
    "gpuClass": "standard",
    "kernelspec": {
      "display_name": "Python 3",
      "name": "python3"
    },
    "language_info": {
      "name": "python"
    }
  },
  "nbformat": 4,
  "nbformat_minor": 0
}